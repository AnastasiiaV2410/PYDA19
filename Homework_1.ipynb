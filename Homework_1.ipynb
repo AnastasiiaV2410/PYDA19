{
 "cells": [
  {
   "cell_type": "markdown",
   "metadata": {},
   "source": [
    "Задание 1 "
   ]
  },
  {
   "cell_type": "code",
   "execution_count": 1,
   "metadata": {},
   "outputs": [
    {
     "name": "stdout",
     "output_type": "stream",
     "text": [
      "Фразы равной длины\n",
      "Конец программы\n"
     ]
    }
   ],
   "source": [
    "phrase_1='Зелененький'\n",
    "phrase_2='Зеленоватый'\n",
    "if len(phrase_1) > len(phrase_2):\n",
    "    print('Фраза 1 длиннее фразы 2')\n",
    "elif len(phrase_1) < len(phrase_2):\n",
    "    print('Фраза 2 длиннее фразы 1')\n",
    "else:\n",
    "    print('Фразы равной длины')\n",
    "print('Конец программы')"
   ]
  },
  {
   "cell_type": "markdown",
   "metadata": {},
   "source": [
    "Задание 2"
   ]
  },
  {
   "cell_type": "code",
   "execution_count": 15,
   "metadata": {},
   "outputs": [
    {
     "name": "stdout",
     "output_type": "stream",
     "text": [
      "Високосный год\n",
      "Конец программы\n"
     ]
    }
   ],
   "source": [
    "year=2020\n",
    "if (year%4 == 0 and year%100 != 0) or (year%400 == 0 and year%100 != 0):\n",
    "    print('Високосный год')\n",
    "else:\n",
    "    print('Обычный год')\n",
    "print('Конец программы')    "
   ]
  },
  {
   "cell_type": "markdown",
   "metadata": {},
   "source": [
    "Задание 3"
   ]
  },
  {
   "cell_type": "code",
   "execution_count": 16,
   "metadata": {},
   "outputs": [
    {
     "name": "stdout",
     "output_type": "stream",
     "text": [
      "Введите день рождения 24\n",
      "Введите месяц рождения Октябрь\n",
      "Ваш знак зодиака: Скорпион\n",
      "Конец программы\n"
     ]
    }
   ],
   "source": [
    "user_input_1 = int(input('Введите день рождения '))\n",
    "user_input_2 = input('Введите месяц рождения ')\n",
    "if (21 <= user_input_1 <= 31 and user_input_2 == 'Март') or (1 <= user_input_1 <= 19 and user_input_2 == 'Апрель'):\n",
    "    print('Ваш знак зодиака: Овен')\n",
    "elif (20 <= user_input_1 <= 30 and user_input_2 == 'Апрель') or (1 <= user_input_1 <= 20 and user_input_2 == 'Май'):\n",
    "    print('Ваш знак зодиака: Телец')\n",
    "elif (21 <= user_input_1 <= 31 and user_input_2 == 'Май') or (1 <= user_input_1 <= 21 and user_input_2 == 'Июнь'):\n",
    "    print('Ваш знак зодиака: Близнецы') \n",
    "elif (22 <= user_input_1 <= 30 and user_input_2 == 'Июнь') or (1 <= user_input_1 <= 22 and user_input_2 == 'Июль'):\n",
    "    print('Ваш знак зодиака: Рак') \n",
    "elif (23 <= user_input_1 <= 31 and user_input_2 == 'Июль') or (1 <= user_input_1 <= 22 and user_input_2 == 'Август'):\n",
    "    print('Ваш знак зодиака: Лев') \n",
    "elif (23 <= user_input_1 <= 31 and user_input_2 == 'Август') or (1 <= user_input_1 <= 22 and user_input_2 == 'Сентябрь'):\n",
    "    print('Ваш знак зодиака: Дева')\n",
    "elif (23 <= user_input_1 <= 30 and user_input_2 == 'Сентябрь') or (1 <= user_input_1 <= 23 and user_input_2 == 'Октябрь'):\n",
    "    print('Ваш знак зодиака: Весы') \n",
    "elif (24 <= user_input_1 <= 31 and user_input_2 == 'Октябрь') or (1 <= user_input_1 <= 22 and user_input_2 == 'Ноябрь'):\n",
    "    print('Ваш знак зодиака: Скорпион')\n",
    "elif (23 <= user_input_1 <= 30 and user_input_2 == 'Ноябрь') or (1 <= user_input_1 <= 21 and user_input_2 == 'Декабрь'):\n",
    "    print('Ваш знак зодиака: Стрелец')\n",
    "elif (22 <= user_input_1 <= 31 and user_input_2 == 'Декабрь') or (1 <= user_input_1 <= 20 and user_input_2 == 'Январь'):\n",
    "    print('Ваш знак зодиака: Козерог')\n",
    "elif (21 <= user_input_1 <= 31 and user_input_2 == 'Январь') or (1 <= user_input_1 <= 18 and user_input_2 == 'Февраль'):\n",
    "    print('Ваш знак зодиака: Водолей')\n",
    "elif (19 <= user_input_1 <= 28 and user_input_2 == 'Февраль') or (1 <= user_input_1 <= 20 and user_input_2 == 'Март'):\n",
    "    print('Ваш знак зодиака: Рыбы')\n",
    "print('Конец программы')    "
   ]
  },
  {
   "cell_type": "markdown",
   "metadata": {},
   "source": [
    "Задание 4"
   ]
  },
  {
   "cell_type": "code",
   "execution_count": 36,
   "metadata": {},
   "outputs": [
    {
     "name": "stdout",
     "output_type": "stream",
     "text": [
      "Упаковка для лыж\n",
      "Конец программы\n"
     ]
    }
   ],
   "source": [
    "width = 45\n",
    "length = 205\n",
    "height = 45\n",
    "if (width < 15 and length < 15 and height < 15):\n",
    "    print('Коробка №1')\n",
    "elif (length >=200):\n",
    "    print('Упаковка для лыж')\n",
    "elif (15 < width < 50 or 15 < length < 50 or 15 < height < 50):\n",
    "    print('Коробка №2')\n",
    "else:\n",
    "    print('Стандартная коробка №3')\n",
    "print('Конец программы') "
   ]
  },
  {
   "cell_type": "markdown",
   "metadata": {},
   "source": [
    "Задание 5"
   ]
  },
  {
   "cell_type": "code",
   "execution_count": 21,
   "metadata": {},
   "outputs": [
    {
     "name": "stdout",
     "output_type": "stream",
     "text": [
      "Введите шестизначное число:658741\n",
      "Билет обычный\n"
     ]
    }
   ],
   "source": [
    "a=input('Введите шестизначное число:')\n",
    "b = int(a[0])+int(a[1])+int(a[2])\n",
    "c = int(a[3])+int(a[4])+int(a[5])\n",
    "if b==c:\n",
    "    print('Билет счастливый')\n",
    "else:\n",
    "    print('Билет обычный')"
   ]
  },
  {
   "cell_type": "markdown",
   "metadata": {},
   "source": [
    "Задание 6"
   ]
  },
  {
   "cell_type": "code",
   "execution_count": 14,
   "metadata": {},
   "outputs": [
    {
     "name": "stdout",
     "output_type": "stream",
     "text": [
      "Введите тип фигуры Треугольник\n",
      "Введите длину стороны a 10\n",
      "Введите длину стороны b 11\n",
      "Введите длину стороны c 12\n",
      "Площадь треугольника равна  51\n",
      "Конец программы\n"
     ]
    }
   ],
   "source": [
    "figure = str(input('Введите тип фигуры '))\n",
    "if figure == 'Круг':\n",
    "    R = int(input('Введите радиус круга '))\n",
    "    print('Площадь круга равна ', int(3.14*R**2))\n",
    "elif figure == 'Треугольник':\n",
    "    a = int(input('Введите длину стороны a '))\n",
    "    b = int(input('Введите длину стороны b '))\n",
    "    c = int(input('Введите длину стороны c '))\n",
    "    p = (a+b+c)*0.5\n",
    "    print('Площадь треугольника равна ', int(pow(p*(p-a)*(p-b)*(p-c),0.5)))\n",
    "elif figure == 'Прямоугольник':    \n",
    "    d = int(input('Введите длину стороны d '))\n",
    "    e = int(input('Введите длину стороны e '))\n",
    "    print('Площадь прямоугольника равна ', int(d*e))\n",
    "print('Конец программы')    "
   ]
  },
  {
   "cell_type": "code",
   "execution_count": null,
   "metadata": {},
   "outputs": [],
   "source": []
  }
 ],
 "metadata": {
  "kernelspec": {
   "display_name": "Python 3",
   "language": "python",
   "name": "python3"
  },
  "language_info": {
   "codemirror_mode": {
    "name": "ipython",
    "version": 3
   },
   "file_extension": ".py",
   "mimetype": "text/x-python",
   "name": "python",
   "nbconvert_exporter": "python",
   "pygments_lexer": "ipython3",
   "version": "3.8.5"
  }
 },
 "nbformat": 4,
 "nbformat_minor": 4
}
