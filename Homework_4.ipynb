{
 "cells": [
  {
   "cell_type": "markdown",
   "metadata": {},
   "source": [
    "Перечень всех документов:"
   ]
  },
  {
   "cell_type": "code",
   "execution_count": 1,
   "metadata": {},
   "outputs": [],
   "source": [
    "documents = [\n",
    " {'type': 'passport', 'number': '2207 876234', 'name': 'Василий Гупкин'},\n",
    " {'type': 'invoice', 'number': '11-2', 'name': 'Геннадий Покемонов'},\n",
    " {'type': 'insurance', 'number': '10006', 'name': 'Аристарх Павлов'}\n",
    "]"
   ]
  },
  {
   "cell_type": "markdown",
   "metadata": {},
   "source": [
    "Перечень полок, на которых хранятся документы (если документ есть в documents, то он обязательно должен быть и в directories):"
   ]
  },
  {
   "cell_type": "code",
   "execution_count": 2,
   "metadata": {},
   "outputs": [],
   "source": [
    "directories = {\n",
    " '1': ['2207 876234', '11-2'],\n",
    " '2': ['10006'],\n",
    " '3': []\n",
    "}"
   ]
  },
  {
   "cell_type": "markdown",
   "metadata": {},
   "source": [
    "Задание 1."
   ]
  },
  {
   "cell_type": "markdown",
   "metadata": {},
   "source": [
    "Пункт 1. Пользователь по команде \"p\" может узнать владельца документа по его номеру"
   ]
  },
  {
   "cell_type": "code",
   "execution_count": 4,
   "metadata": {},
   "outputs": [
    {
     "name": "stdout",
     "output_type": "stream",
     "text": [
      "Введите номер документа: 10006\n",
      "Аристарх Павлов\n"
     ]
    }
   ],
   "source": [
    "def command_p():\n",
    "    find = False\n",
    "    user_input = input(\"Введите номер документа: \")\n",
    "    for doc in documents:\n",
    "        if doc['number'] == user_input:\n",
    "            print(doc['name'])\n",
    "            find = True\n",
    "    if not find:\n",
    "        print('Документ не найден в базе')  \n",
    "        \n",
    "command_p()"
   ]
  },
  {
   "cell_type": "markdown",
   "metadata": {},
   "source": [
    "Пункт 2. Пользователь по команде \"s\" может по номеру документа узнать на какой полке он хранится"
   ]
  },
  {
   "cell_type": "code",
   "execution_count": 5,
   "metadata": {},
   "outputs": [
    {
     "name": "stdout",
     "output_type": "stream",
     "text": [
      "Введите номер документа: 11-2\n",
      "Документ хранится на полке:  1\n"
     ]
    }
   ],
   "source": [
    "def command_s():\n",
    "    find = False\n",
    "    user_input = input(\"Введите номер документа: \")\n",
    "    for direct in directories.items():\n",
    "        for direct_input in direct[1]:\n",
    "            if direct_input == user_input:\n",
    "                print(\"Документ хранится на полке: \", direct[0])\n",
    "                find = True\n",
    "    if not find:\n",
    "                print(\"Документ не найден в базе\")  \n",
    "command_s()"
   ]
  },
  {
   "cell_type": "markdown",
   "metadata": {},
   "source": [
    "Пункт 3. Пользователь по команде \"l\" может увидеть полную информацию по всем документам"
   ]
  },
  {
   "cell_type": "code",
   "execution_count": 6,
   "metadata": {},
   "outputs": [
    {
     "name": "stdout",
     "output_type": "stream",
     "text": [
      "№: 2207 876234, тип: passport, владелец: Василий Гупкин, полка хранения: 1\n",
      "№: 11-2, тип: invoice, владелец: Геннадий Покемонов, полка хранения: 1\n",
      "№: 10006, тип: insurance, владелец: Аристарх Павлов, полка хранения: 2\n"
     ]
    }
   ],
   "source": [
    "def command_l():\n",
    "    for doc in documents:\n",
    "        for direct in directories:\n",
    "            for direct_doc in directories[direct]:\n",
    "                if doc['number'] == direct_doc:\n",
    "                    print(\"№: \" + doc['number'] + \",\" + \" тип: \" + doc['type'] + \", \" + \"владелец: \" + doc['name'] + \", полка хранения: \" + direct[0])\n",
    "command_l()"
   ]
  },
  {
   "cell_type": "markdown",
   "metadata": {},
   "source": [
    "Пункт 4. Пользователь по команде \"ads\" может добавить новую полку"
   ]
  },
  {
   "cell_type": "code",
   "execution_count": 8,
   "metadata": {},
   "outputs": [
    {
     "name": "stdout",
     "output_type": "stream",
     "text": [
      "Введите номер полки: 4\n",
      "Полка добавлена. Текущий перечень полок ['1', '2', '3', '4'].\n"
     ]
    }
   ],
   "source": [
    "def command_ads():\n",
    "    user_input = input(\"Введите номер полки: \")\n",
    "    if user_input in directories.keys():\n",
    "        print(f\"Такая полка уже существует. Текущий перечень полок {list(directories.keys())}.\")\n",
    "    else:\n",
    "        directories[user_input] = []\n",
    "        print(f\"Полка добавлена. Текущий перечень полок {list(directories.keys())}.\")\n",
    "command_ads()"
   ]
  },
  {
   "cell_type": "markdown",
   "metadata": {},
   "source": [
    "Пункт 5. Пользователь по команде \"ds\" может удалить существующую полку из данных (только если она пустая)"
   ]
  },
  {
   "cell_type": "code",
   "execution_count": 9,
   "metadata": {},
   "outputs": [
    {
     "name": "stdout",
     "output_type": "stream",
     "text": [
      "Введите номер полки: 4\n",
      "Полка удалена. Текущий перечень полок: ['1', '2', '3'].\n"
     ]
    }
   ],
   "source": [
    "def command_ds():\n",
    "    user_input = input(\"Введите номер полки: \")\n",
    "    if user_input in directories.keys():\n",
    "        if len(directories[user_input]) != 0:\n",
    "            print(f\"На полке есть документы, удалите их перед удалением полки. Текущий перечень полок {list(directories)}.\")\n",
    "        else:\n",
    "            del directories[user_input]\n",
    "            print(f\"Полка удалена. Текущий перечень полок: {list(directories)}.\")\n",
    "    else:\n",
    "            print(f\"Такой полки не существует. Текущий перечень полок: {list(directories)}.\")\n",
    "command_ds()"
   ]
  },
  {
   "cell_type": "code",
   "execution_count": 10,
   "metadata": {},
   "outputs": [
    {
     "name": "stdout",
     "output_type": "stream",
     "text": [
      "Введите команду: p\n",
      "Введите номер документа: 11-2\n",
      "Геннадий Покемонов\n",
      "None\n",
      "Введите команду: s\n",
      "Введите номер документа: 10006\n",
      "Документ хранится на полке:  2\n",
      "None\n",
      "Введите команду: l\n",
      "№: 2207 876234, тип: passport, владелец: Василий Гупкин, полка хранения: 1\n",
      "№: 11-2, тип: invoice, владелец: Геннадий Покемонов, полка хранения: 1\n",
      "№: 10006, тип: insurance, владелец: Аристарх Павлов, полка хранения: 2\n",
      "None\n",
      "Введите команду: ads\n",
      "Введите номер полки: 10\n",
      "Полка добавлена. Текущий перечень полок ['1', '2', '3', '10'].\n",
      "None\n",
      "Введите команду: ds\n",
      "Введите номер полки: 10\n",
      "Полка удалена. Текущий перечень полок: ['1', '2', '3'].\n",
      "None\n",
      "Введите команду: q\n"
     ]
    }
   ],
   "source": [
    "def main():\n",
    "    while True:\n",
    "        command = input(\"Введите команду: \")\n",
    "        if command == 'p':\n",
    "            print(command_p())\n",
    "        elif command == 's':\n",
    "            print(command_s())\n",
    "        elif command == 'l':\n",
    "            print(command_l())  \n",
    "        elif command == 'ads':\n",
    "            print(command_ads())  \n",
    "        elif command == 'ds':\n",
    "            print(command_ds()) \n",
    "        else:\n",
    "            command == 'q'\n",
    "            break\n",
    "main()"
   ]
  },
  {
   "cell_type": "code",
   "execution_count": null,
   "metadata": {},
   "outputs": [],
   "source": []
  }
 ],
 "metadata": {
  "kernelspec": {
   "display_name": "Python 3",
   "language": "python",
   "name": "python3"
  },
  "language_info": {
   "codemirror_mode": {
    "name": "ipython",
    "version": 3
   },
   "file_extension": ".py",
   "mimetype": "text/x-python",
   "name": "python",
   "nbconvert_exporter": "python",
   "pygments_lexer": "ipython3",
   "version": "3.8.5"
  }
 },
 "nbformat": 4,
 "nbformat_minor": 4
}
